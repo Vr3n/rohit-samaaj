{
 "cells": [
  {
   "cell_type": "code",
   "execution_count": 1,
   "id": "3ffed1e3-4264-4e64-8000-3c5859abf97b",
   "metadata": {},
   "outputs": [],
   "source": [
    "import requests\n",
    "from bs4 import BeautifulSoup\n",
    "import json"
   ]
  },
  {
   "cell_type": "code",
   "execution_count": 2,
   "id": "f53715b3-ed3e-4331-93ac-4495f9ba178c",
   "metadata": {},
   "outputs": [],
   "source": [
    "r = requests.get(\"https://www.collegesearch.in/articles/diploma-courses-crs\")"
   ]
  },
  {
   "cell_type": "code",
   "execution_count": 3,
   "id": "f6c44cd5-14d3-473b-a308-669d35c1530b",
   "metadata": {},
   "outputs": [],
   "source": [
    "soup = BeautifulSoup(r.text, 'html.parser')"
   ]
  },
  {
   "cell_type": "code",
   "execution_count": 4,
   "id": "57b5f7d8-74b8-453f-bbf6-19454e84b1cb",
   "metadata": {},
   "outputs": [],
   "source": [
    "li = soup.find_all(\"li\")"
   ]
  },
  {
   "cell_type": "code",
   "execution_count": 5,
   "id": "2114c49e-08d3-4fcb-9656-e57dbb7f2864",
   "metadata": {},
   "outputs": [
    {
     "data": {
      "text/plain": [
       "{'Advanced Diploma in Computer Application',\n",
       " 'Advanced Diploma in Fashion Design',\n",
       " 'Advanced Diploma in Interior Design',\n",
       " 'Diploma in AC Mechanic Course',\n",
       " 'Diploma in Accounting',\n",
       " 'Diploma in Accounting and Finance.',\n",
       " 'Diploma in Acting',\n",
       " 'Diploma in Advertising.',\n",
       " 'Diploma in Aeronautical Engineering',\n",
       " 'Diploma in Agricultural Engineering',\n",
       " 'Diploma in Agriculture',\n",
       " 'Diploma in Animal Husbandry',\n",
       " 'Diploma in Animation.',\n",
       " 'Diploma in Apparel Design',\n",
       " 'Diploma in Architecture Assistantship',\n",
       " 'Diploma in Automobile Engineering',\n",
       " 'Diploma in Aviation',\n",
       " 'Diploma in Ayurvedic Pharmacy',\n",
       " 'Diploma in Bakery and Confectionery',\n",
       " 'Diploma in Banking & Finance',\n",
       " 'Diploma in Banking and Finance',\n",
       " 'Diploma in Banking and Finance.',\n",
       " 'Diploma in Biomedical Biotechnology',\n",
       " 'Diploma in Biotechnology',\n",
       " 'Diploma in Biotechnology.',\n",
       " 'Diploma in Business Administration',\n",
       " 'Diploma in Business Management.',\n",
       " 'Diploma in Business/Big Data Analytics',\n",
       " 'Diploma in Ceramic Technology',\n",
       " 'Diploma in Chemical Engineering',\n",
       " 'Diploma in Civil Engineering',\n",
       " 'Diploma in Clinical Research',\n",
       " 'Diploma in Computer Application Course',\n",
       " 'Diploma in Computer Applications',\n",
       " 'Diploma in Computer Engineering',\n",
       " 'Diploma in Computer Engineering/Computer Applications',\n",
       " 'Diploma in Computer Programming',\n",
       " 'Diploma in Computer Science and Engineering',\n",
       " 'Diploma in Cooperative Management Course',\n",
       " 'Diploma in Creative Writing.',\n",
       " 'Diploma in Culinary Arts',\n",
       " 'Diploma in Data Science',\n",
       " 'Diploma in Dental Mechanics',\n",
       " 'Diploma in Dermatology',\n",
       " 'Diploma in Dialysis Technician Course',\n",
       " 'Diploma in Dialysis Technology',\n",
       " 'Diploma in Digital Marketing',\n",
       " 'Diploma in Digital Marketing.',\n",
       " 'Diploma in Economics',\n",
       " 'Diploma in Education Technology.',\n",
       " 'Diploma in Electrical & Telecommunication Engineering',\n",
       " 'Diploma in Electrical Engineering',\n",
       " 'Diploma in Electrical and Electronics Engineering',\n",
       " 'Diploma in Electronics & Communication Engineering',\n",
       " 'Diploma in Electronics and Communication Engineering',\n",
       " 'Diploma in Engineering',\n",
       " 'Diploma in Event Management',\n",
       " 'Diploma in Fashion Design',\n",
       " 'Diploma in Fashion Designing',\n",
       " 'Diploma in Financial Accounting Computer Course',\n",
       " 'Diploma in Financial Management',\n",
       " 'Diploma in Food Technology',\n",
       " 'Diploma in Food and Beverage Services Management',\n",
       " 'Diploma in Forensic Science',\n",
       " 'Diploma in Garment Technology',\n",
       " 'Diploma in Graphic Design.',\n",
       " 'Diploma in Graphic Designing',\n",
       " 'Diploma in Handloom Technology',\n",
       " 'Diploma in Homeopathic Medicine and Surgery',\n",
       " 'Diploma in Homeopathy Course',\n",
       " 'Diploma in Horticulture',\n",
       " 'Diploma in Hotel Management',\n",
       " 'Diploma in Hotel Management.',\n",
       " 'Diploma in Human Resource Management',\n",
       " 'Diploma in IT',\n",
       " 'Diploma in Infection Control Course',\n",
       " 'Diploma in Information Technology',\n",
       " 'Diploma in Instrumentation Technology',\n",
       " 'Diploma in Interior Decoration',\n",
       " 'Diploma in Interior Designing.',\n",
       " 'Diploma in Journalism and Mass Communication.',\n",
       " 'Diploma in Lab Technician Course',\n",
       " 'Diploma in Labour Law Distance Education',\n",
       " 'Diploma in Leather Technology',\n",
       " 'Diploma in Library and Information Science',\n",
       " 'Diploma in Logistics and Supply Chain Management',\n",
       " 'Diploma in Marine Engineering',\n",
       " 'Diploma in Marketing & Public Relations',\n",
       " 'Diploma in Mechanical Engineering',\n",
       " 'Diploma in Mechatronics',\n",
       " 'Diploma in Medical Field',\n",
       " 'Diploma in Medical Imaging Technology Course Details',\n",
       " 'Diploma in Medical Lab Technology',\n",
       " 'Diploma in Medical Lab Technology.',\n",
       " 'Diploma in Multimedia & Animation',\n",
       " 'Diploma in Multimedia and Animation Course',\n",
       " 'Diploma in Nursing',\n",
       " 'Diploma in Nursing Course',\n",
       " 'Diploma in Nutrition andHealth Education',\n",
       " 'Diploma in OT Technician',\n",
       " 'Diploma in Ophthalmology',\n",
       " 'Diploma in Pathology Course',\n",
       " 'Diploma in Pharmacy [D.Pharma]',\n",
       " 'Diploma in Photography',\n",
       " 'Diploma in Physiotherapy Course',\n",
       " 'Diploma in Plastic Technology',\n",
       " 'Diploma in Production & Industrial Engineering',\n",
       " 'Diploma in Radiological Technology.',\n",
       " 'Diploma in Radiological Therapy',\n",
       " 'Diploma in Retail Management.',\n",
       " 'Diploma in Tailoring',\n",
       " 'Diploma in Textile Design',\n",
       " 'Diploma in Textile Processing',\n",
       " 'Diploma in Textile Technology (Knitting/Weaving/Spinning)',\n",
       " 'Diploma in Tourism Studies',\n",
       " 'Diploma in Travel and Tourism',\n",
       " 'Diploma in Visual Communication',\n",
       " 'Diploma in Web Designing',\n",
       " 'Diploma in Web Designing Course',\n",
       " 'Diploma in X-Ray Technology Course',\n",
       " 'Diploma in\\xa0Event Management',\n",
       " 'Diploma in\\xa0Foreign Languages',\n",
       " 'Diploma in\\xa0Foreign Trade/International Trade Management',\n",
       " 'Diploma in\\xa0Nutrition & Dietetics',\n",
       " 'Diploma in\\xa0Physiotherapy',\n",
       " 'Diploma in\\xa0Programming',\n",
       " 'PG Diploma in Data Science & Artificial Intelligence',\n",
       " 'PG Diploma in Nutrition andDietetics Online Course',\n",
       " 'PGDEMA (Post-Graduate Diploma in Event Management and Activation)',\n",
       " 'Post Graduate Diploma in Accountancy',\n",
       " 'Post Graduate Diploma in Advertising',\n",
       " 'Post Graduate Diploma in Bioinformatics [Pgdbi]',\n",
       " 'Post Graduate Diploma in Business Administration (PGDBM)',\n",
       " 'Post Graduate Diploma in Business Analytics',\n",
       " 'Post Graduate Diploma in Clinical Nutrition & Dietetics',\n",
       " 'Post Graduate Diploma in Computer Applications [PGDCA]',\n",
       " 'Post Graduate Diploma in Cyber Law',\n",
       " 'Post Graduate Diploma in Data Science',\n",
       " 'Post Graduate Diploma in Forensic Science',\n",
       " 'Post Graduate Diploma in GIS And Remote Sensing',\n",
       " 'Post Graduate Diploma in Guidance & Counselling',\n",
       " 'Post Graduate Diploma in Human Resource Management (PGDHRM)',\n",
       " 'Post Graduate Diploma in Human Resource Management [PGDM] (HR)',\n",
       " 'Post Graduate Diploma in Intellectual Property Rights',\n",
       " 'Post Graduate Diploma in Journalism',\n",
       " 'Post Graduate Diploma in Labour Laws [PGDLL]',\n",
       " 'Post Graduate Diploma in Management (PGDM) + Master of Business Administration (MBA)',\n",
       " 'Post Graduate Diploma in Management [PGDM]',\n",
       " 'Post Graduate Diploma in Management [PGDM] (Management)',\n",
       " 'Post Graduate Diploma in Management [PGDM] (Marketing)',\n",
       " 'Post Graduate Diploma in Obstetrics & Gynaecology',\n",
       " 'Post Graduate Diploma in Yoga'}"
      ]
     },
     "execution_count": 5,
     "metadata": {},
     "output_type": "execute_result"
    }
   ],
   "source": [
    "diploma_list: set = set()\n",
    "\n",
    "for i in li:\n",
    "    course_name = i.get_text().strip()\n",
    "    if \"Diploma in\" in course_name:\n",
    "        diploma_list.add(f\"{course_name}\")\n",
    "\n",
    "diploma_list"
   ]
  },
  {
   "cell_type": "code",
   "execution_count": 6,
   "id": "43576335-fde8-47cf-a34e-4b55e6008a2f",
   "metadata": {},
   "outputs": [
    {
     "data": {
      "text/plain": [
       "'\"Diploma in Marine Engineering\"'"
      ]
     },
     "execution_count": 6,
     "metadata": {},
     "output_type": "execute_result"
    }
   ],
   "source": [
    "dl = [f\"\\\"{x}\\\"\" for x in diploma_list]\n",
    "dl[0]"
   ]
  },
  {
   "cell_type": "code",
   "execution_count": 8,
   "id": "e18039b9-7d35-4e71-8468-246f3014328e",
   "metadata": {},
   "outputs": [],
   "source": [
    "with open(r'diplomaList.ts', 'w') as fp:\n",
    "    fp.writelines(\"export const diplomaCourseList = [\")\n",
    "    fp.writelines(','.join(dl))\n",
    "    fp.writelines(\"] as const;\")"
   ]
  },
  {
   "cell_type": "code",
   "execution_count": null,
   "id": "2b3c0633-1cb1-4e60-a4f3-2e6a925e40d2",
   "metadata": {},
   "outputs": [],
   "source": []
  }
 ],
 "metadata": {
  "kernelspec": {
   "display_name": "Python 3 (ipykernel)",
   "language": "python",
   "name": "python3"
  },
  "language_info": {
   "codemirror_mode": {
    "name": "ipython",
    "version": 3
   },
   "file_extension": ".py",
   "mimetype": "text/x-python",
   "name": "python",
   "nbconvert_exporter": "python",
   "pygments_lexer": "ipython3",
   "version": "3.10.12"
  }
 },
 "nbformat": 4,
 "nbformat_minor": 5
}
