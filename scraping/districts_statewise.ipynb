{
 "cells": [
  {
   "cell_type": "code",
   "execution_count": 1,
   "id": "c189c2e3-390b-4cc3-99ad-73568e9ca745",
   "metadata": {},
   "outputs": [],
   "source": [
    "import requests\n",
    "from bs4 import BeautifulSoup\n",
    "import json\n",
    "import logging\n",
    "import sys"
   ]
  },
  {
   "cell_type": "code",
   "execution_count": 2,
   "id": "37ef6293-9c7e-4020-96cb-8d3a24cbfdbb",
   "metadata": {},
   "outputs": [],
   "source": [
    "logger = logging.getLogger(\"districts-scraping\")\n",
    "logger.setLevel(level=logging.DEBUG)"
   ]
  },
  {
   "cell_type": "code",
   "execution_count": 3,
   "id": "7506c57a-7b18-4c25-a448-fa52e448cc84",
   "metadata": {},
   "outputs": [],
   "source": [
    "logFileFormatter = logging.Formatter(\n",
    "    fmt=f\"%(levelname)s %(asctime)s (%(relativeCreated)d) \\t %(pathname)s F%(funcName)s L%(lineno)s - %(message)s\",\n",
    "    datefmt=\"%Y-%m-%d %H:%M:%S\",\n",
    ")\n",
    "fileHandler = logging.FileHandler(filename='./districts-scraping.log')\n",
    "fileHandler.setFormatter(logFileFormatter)\n",
    "fileHandler.setLevel(level=logging.DEBUG)\n",
    "\n",
    "logger.addHandler(fileHandler)"
   ]
  },
  {
   "cell_type": "code",
   "execution_count": 4,
   "id": "2529431d-2a57-4ea2-81f8-cb712a706b6f",
   "metadata": {},
   "outputs": [],
   "source": [
    "r = requests.get(\"https://www.thecivilindia.com/pages/governence/districts.html\")\n",
    "if r.status_code == 200:\n",
    "    logger.info(\"Scraped State wise District info successfully.\")\n",
    "else:\n",
    "    logger.error(\"There was an error: \", r.status_code)"
   ]
  },
  {
   "cell_type": "code",
   "execution_count": 5,
   "id": "ead34240-0993-4cd4-a36e-91a431f38d9b",
   "metadata": {},
   "outputs": [],
   "source": [
    "soup = BeautifulSoup(r.text, 'html.parser')"
   ]
  },
  {
   "cell_type": "code",
   "execution_count": 6,
   "id": "361ee9cf-fd4f-4d68-83d2-be06783cc38d",
   "metadata": {},
   "outputs": [],
   "source": [
    "tq_div = soup.find(\"div\", class_=\"three_quarter\")"
   ]
  },
  {
   "cell_type": "code",
   "execution_count": 7,
   "id": "3e3b50fc-2870-409e-88d2-f02e2da0c831",
   "metadata": {},
   "outputs": [],
   "source": [
    "districts_data = tq_div.select(\"tr\")"
   ]
  },
  {
   "cell_type": "code",
   "execution_count": 8,
   "id": "36c4fa64-fb9e-4254-895b-c82e680b1d22",
   "metadata": {},
   "outputs": [],
   "source": [
    "del districts_data[0]"
   ]
  },
  {
   "cell_type": "code",
   "execution_count": 9,
   "id": "9074414a-0a57-4339-bf6f-82999bfbd9f9",
   "metadata": {},
   "outputs": [],
   "source": [
    "district_state_mapping: dict = {}"
   ]
  },
  {
   "cell_type": "code",
   "execution_count": 10,
   "id": "964e0d0a-2171-4865-a54c-5986dd26e84c",
   "metadata": {},
   "outputs": [],
   "source": [
    "for data in districts_data:\n",
    "    dist_data = data.find_all(\"td\")\n",
    "    if dist_data[1].find(\"h2\") != None:\n",
    "        state_name: str = dist_data[1].find(\"h2\").get_text().strip().lower()\n",
    "        continue\n",
    "    dist_name: str = dist_data[1].get_text().strip().lower()\n",
    "    if state_name in district_state_mapping:\n",
    "        dist_list = district_state_mapping[state_name]\n",
    "        dist_list.append(dist_name)\n",
    "    else:\n",
    "        district_state_mapping[state_name] = [dist_name]\n",
    "    logger.info(f\"Added {dist_name} to {state_name} successfuly\")"
   ]
  },
  {
   "cell_type": "code",
   "execution_count": 11,
   "id": "33258eea-3b22-4bfa-b731-c0363bd5fd6a",
   "metadata": {},
   "outputs": [],
   "source": [
    "with open(\"stateWiseDistrict.json\", \"w\") as fp:\n",
    "    json.dump(district_state_mapping, fp)\n",
    "    logger.info(\"Data saved to json file succesfully!\")"
   ]
  },
  {
   "cell_type": "code",
   "execution_count": null,
   "id": "023af5f1-3726-4798-9be6-2949b3517fd0",
   "metadata": {},
   "outputs": [],
   "source": []
  }
 ],
 "metadata": {
  "kernelspec": {
   "display_name": "Python 3 (ipykernel)",
   "language": "python",
   "name": "python3"
  },
  "language_info": {
   "codemirror_mode": {
    "name": "ipython",
    "version": 3
   },
   "file_extension": ".py",
   "mimetype": "text/x-python",
   "name": "python",
   "nbconvert_exporter": "python",
   "pygments_lexer": "ipython3",
   "version": "3.10.12"
  }
 },
 "nbformat": 4,
 "nbformat_minor": 5
}
