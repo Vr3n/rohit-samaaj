{
 "cells": [
  {
   "cell_type": "code",
   "execution_count": 1,
   "id": "0c512e1e-9ab3-46b4-8fd5-259dc865dacc",
   "metadata": {},
   "outputs": [],
   "source": [
    "import requests\n",
    "from bs4 import BeautifulSoup\n",
    "import json\n",
    "import logging\n",
    "import sys"
   ]
  },
  {
   "cell_type": "code",
   "execution_count": 2,
   "id": "34476617-523d-43c1-ae1d-f798ad68e78e",
   "metadata": {},
   "outputs": [],
   "source": [
    "logger = logging.getLogger(\"boards-scraping\")\n",
    "logger.setLevel(level=logging.DEBUG)"
   ]
  },
  {
   "cell_type": "code",
   "execution_count": 3,
   "id": "ddebe9f4-4288-4ac8-a656-d33c2eee9114",
   "metadata": {},
   "outputs": [],
   "source": [
    "logFileFormatter = logging.Formatter(\n",
    "    fmt=f\"%(levelname)s %(asctime)s (%(relativeCreated)d) \\t %(pathname)s F%(funcName)s L%(lineno)s - %(message)s\",\n",
    "    datefmt=\"%Y-%m-%d %H:%M:%S\",\n",
    ")\n",
    "fileHandler = logging.FileHandler(filename='./boards-scraping.log')\n",
    "fileHandler.setFormatter(logFileFormatter)\n",
    "fileHandler.setLevel(level=logging.DEBUG)\n",
    "\n",
    "logger.addHandler(fileHandler)"
   ]
  },
  {
   "cell_type": "code",
   "execution_count": 4,
   "id": "4ccea4e2-d29b-4fa7-9ecf-dff95ea2f4b9",
   "metadata": {},
   "outputs": [],
   "source": [
    "r = requests.get(\"https://www.thecivilindia.com/pages/education/state-board.html\")\n",
    "if r.status_code == 200:\n",
    "    logger.info(\"Scraped Board info successfully.\")\n",
    "else:\n",
    "    logger.error(\"There was an error: \", r.status_code)"
   ]
  },
  {
   "cell_type": "code",
   "execution_count": 5,
   "id": "3876ae62-7eae-4d43-8c08-62c51d20e67a",
   "metadata": {},
   "outputs": [],
   "source": [
    "soup = BeautifulSoup(r.text, 'html.parser')"
   ]
  },
  {
   "cell_type": "code",
   "execution_count": 6,
   "id": "7229cf81-67af-44ae-931f-1c3aa8cc4c5b",
   "metadata": {},
   "outputs": [],
   "source": [
    "tq_div = soup.find(\"div\", class_=\"three_quarter\")"
   ]
  },
  {
   "cell_type": "code",
   "execution_count": 7,
   "id": "cceaf481-6b6a-4763-8d81-0a7c2b366108",
   "metadata": {},
   "outputs": [],
   "source": [
    "states = tq_div.select(\"td strong\")"
   ]
  },
  {
   "cell_type": "code",
   "execution_count": 8,
   "id": "91221da9-dd46-4abd-83db-9b9befca3978",
   "metadata": {},
   "outputs": [],
   "source": [
    "boards = tq_div.select(\"td ul\")"
   ]
  },
  {
   "cell_type": "code",
   "execution_count": 9,
   "id": "46817fc6-f9ed-41f8-b7ec-cf570e1baa82",
   "metadata": {},
   "outputs": [],
   "source": [
    "state_boards_mapping = {}\n",
    "for state, board in zip(states, boards):\n",
    "    state_boards_mapping[state.get_text().strip().lower()] = [f\"{x.get_text().strip()}\" for x in  board.find_all(\"li\")]\n",
    "    logger.info(f\"succesfully added {board.get_text().strip().lower()} - {state.get_text().strip().lower()}\")"
   ]
  },
  {
   "cell_type": "code",
   "execution_count": 10,
   "id": "26eeef3e-962d-4a4a-870a-b975ddd4419e",
   "metadata": {},
   "outputs": [],
   "source": [
    "with open(r'stateWiseBoardsList.json', 'w') as fp:\n",
    "    json.dump(state_boards_mapping, fp)\n",
    "    logger.info(\"Data saved to json file succesfully!\")"
   ]
  },
  {
   "cell_type": "code",
   "execution_count": null,
   "id": "76113d16-2426-4b44-8079-15e260097be6",
   "metadata": {},
   "outputs": [],
   "source": []
  }
 ],
 "metadata": {
  "kernelspec": {
   "display_name": "Python 3 (ipykernel)",
   "language": "python",
   "name": "python3"
  },
  "language_info": {
   "codemirror_mode": {
    "name": "ipython",
    "version": 3
   },
   "file_extension": ".py",
   "mimetype": "text/x-python",
   "name": "python",
   "nbconvert_exporter": "python",
   "pygments_lexer": "ipython3",
   "version": "3.10.12"
  }
 },
 "nbformat": 4,
 "nbformat_minor": 5
}
