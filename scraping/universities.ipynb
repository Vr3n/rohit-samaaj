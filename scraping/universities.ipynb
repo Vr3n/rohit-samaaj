{
 "cells": [
  {
   "cell_type": "code",
   "execution_count": 1,
   "id": "56fb0bd4-4b44-4577-b22b-97a4ab40d147",
   "metadata": {},
   "outputs": [],
   "source": [
    "import requests\n",
    "from bs4 import BeautifulSoup\n",
    "import json\n",
    "import logging\n",
    "import sys"
   ]
  },
  {
   "cell_type": "code",
   "execution_count": 2,
   "id": "1155a0bb-ba97-4060-9a41-cf8c3c9652d5",
   "metadata": {},
   "outputs": [],
   "source": [
    "logger = logging.getLogger(\"universities-scraping\")\n",
    "logger.setLevel(level=logging.DEBUG)"
   ]
  },
  {
   "cell_type": "code",
   "execution_count": 3,
   "id": "0e5518f4-481d-46e5-abc0-0485b783c476",
   "metadata": {},
   "outputs": [],
   "source": [
    "logFileFormatter = logging.Formatter(\n",
    "    fmt=f\"%(levelname)s %(asctime)s (%(relativeCreated)d) \\t %(pathname)s F%(funcName)s L%(lineno)s - %(message)s\",\n",
    "    datefmt=\"%Y-%m-%d %H:%M:%S\",\n",
    ")\n",
    "fileHandler = logging.FileHandler(filename='./university-scraping.log')\n",
    "fileHandler.setFormatter(logFileFormatter)\n",
    "fileHandler.setLevel(level=logging.DEBUG)\n",
    "\n",
    "logger.addHandler(fileHandler)"
   ]
  },
  {
   "cell_type": "code",
   "execution_count": 4,
   "id": "76ca77ff-d00e-4228-8e05-408d3e79d735",
   "metadata": {},
   "outputs": [],
   "source": [
    "r = requests.get(\"https://www.thecivilindia.com/pages/education/central-universities.html\")\n",
    "if r.status_code == 200:\n",
    "    logger.info(\"Scraped Central Universities successfully.\")\n",
    "else:\n",
    "    logger.info(\"There was an error: \", r.status_code)"
   ]
  },
  {
   "cell_type": "code",
   "execution_count": 5,
   "id": "0bb40c82-aca0-48d5-aa2a-146ebd60b4d8",
   "metadata": {},
   "outputs": [],
   "source": [
    "soup = BeautifulSoup(r.text, 'html.parser')"
   ]
  },
  {
   "cell_type": "code",
   "execution_count": 6,
   "id": "899144c1-463a-4c62-a2ee-359434c4cf25",
   "metadata": {},
   "outputs": [],
   "source": [
    "tq_div = soup.find(\"div\", class_=\"three_quarter first\")"
   ]
  },
  {
   "cell_type": "code",
   "execution_count": 7,
   "id": "00d9f4c4-80f4-4fd5-b000-1d43564176d4",
   "metadata": {},
   "outputs": [],
   "source": [
    "central_universities_data  =tq_div.select(\"table tr\")"
   ]
  },
  {
   "cell_type": "code",
   "execution_count": 8,
   "id": "a9a54f69-8a81-4deb-a9a2-2f5581810335",
   "metadata": {},
   "outputs": [],
   "source": [
    "del central_universities_data[0]"
   ]
  },
  {
   "cell_type": "markdown",
   "id": "cb4e0b79-e0f4-423d-b0a5-abd2e12613bd",
   "metadata": {},
   "source": [
    "### Data Structure for storing college names and states.\n",
    "\n",
    "- The college are going to mapped to states for eg\n",
    "```python\n",
    "names = { \"maharashtra\": [\"Abc\", \"edf\"], \"gujarat\": [\"BCd\"] }\n",
    "```\n",
    "\n",
    "- The states will also be stored in different list.\n",
    "```python\n",
    "state_names = [\"maharashtra\", \"gujarat\"]\n",
    "```\n",
    "\n"
   ]
  },
  {
   "cell_type": "code",
   "execution_count": 9,
   "id": "faf2a44a-4dea-47af-a9c5-26887523510e",
   "metadata": {},
   "outputs": [],
   "source": [
    "university_state_mapping: dict = {}\n",
    "state_names: set = set()"
   ]
  },
  {
   "cell_type": "code",
   "execution_count": 10,
   "id": "87ab7986-2496-4f17-b8c9-ed52f96bbb53",
   "metadata": {},
   "outputs": [],
   "source": [
    "for data in central_universities_data:\n",
    "    uni_data = data.find_all(\"td\")\n",
    "    uni_name: str = uni_data[1].get_text().strip()\n",
    "    state_name: str = uni_data[2].get_text().strip().lower()\n",
    "    state_names.add(state_name)\n",
    "    if state_name in university_state_mapping:\n",
    "        uni_list = university_state_mapping[state_name]\n",
    "        uni_list.append(uni_name)\n",
    "    else:\n",
    "        university_state_mapping[state_name] = [uni_name]\n",
    "    logger.info(f\"Added {uni_name} successfuly\")"
   ]
  },
  {
   "cell_type": "markdown",
   "id": "77a72778-06c9-4935-9b3f-fa6adc6a9ae6",
   "metadata": {},
   "source": [
    "## Extracting State Universities.\n",
    "\n",
    "The state universities are the universities officialy recognized by states."
   ]
  },
  {
   "cell_type": "code",
   "execution_count": 11,
   "id": "1874c0e5-0ad4-4bbf-b6bd-a225b6c32cfe",
   "metadata": {},
   "outputs": [],
   "source": [
    "r_state = requests.get(\"https://www.thecivilindia.com/pages/education/state-universities.html\")\n",
    "if r_state.status_code == 200:\n",
    "    logger.info(\"Scraped State Universities successfully.\")\n",
    "else:\n",
    "    logger.info(\"There was an error: \", r_state.status_code)"
   ]
  },
  {
   "cell_type": "code",
   "execution_count": 12,
   "id": "322191c5-111b-416b-954f-34d59974b5f8",
   "metadata": {},
   "outputs": [],
   "source": [
    "s_soup = BeautifulSoup(r_state.text, 'html.parser')"
   ]
  },
  {
   "cell_type": "code",
   "execution_count": 13,
   "id": "0334e8cf-6982-45eb-864e-045d1222200a",
   "metadata": {},
   "outputs": [],
   "source": [
    "s_tq_div = s_soup.find(\"div\", class_=\"three_quarter first\")"
   ]
  },
  {
   "cell_type": "code",
   "execution_count": 14,
   "id": "a5f8aec3-d54a-4a3d-9d7d-156647b03b7b",
   "metadata": {},
   "outputs": [],
   "source": [
    "state_universities_data = s_tq_div.select(\"table tr\")"
   ]
  },
  {
   "cell_type": "code",
   "execution_count": 15,
   "id": "1ce5cf6c-f14d-42d6-b013-714039a10cff",
   "metadata": {},
   "outputs": [],
   "source": [
    "del state_universities_data[0]"
   ]
  },
  {
   "cell_type": "code",
   "execution_count": 16,
   "id": "111e69d4-75b2-4975-99da-1e75ad5867c5",
   "metadata": {},
   "outputs": [],
   "source": [
    "for uni in state_universities_data:\n",
    "    data = uni.find_all(\"td\")\n",
    "    uni_name: str = data[1].get_text().strip()\n",
    "    if len(data) > 6:\n",
    "        state_name: str = data[2].get_text().strip().lower()\n",
    "    state_names.add(state_name)\n",
    "    if state_name in university_state_mapping:\n",
    "        uni_list = university_state_mapping[state_name]\n",
    "        uni_list.append(uni_name)\n",
    "    else:\n",
    "        university_state_mapping[state_name] = [uni_name]\n",
    "    logger.info(f\"Added {uni_name} successfuly\")"
   ]
  },
  {
   "cell_type": "markdown",
   "id": "b457e941-cafd-4cf0-bcf0-1aaf59b295f7",
   "metadata": {},
   "source": [
    "## Extracting Deemed Universities.\n",
    "\n",
    "Deemed university, or Deemed-to-be-University, is a status of autonomy granted by the Department of Higher Education in the Union Human Resource Development Ministry, India, on the advice of the UGC, under Section 3 of UGC Act, 1956. To quote the MHRD, \"An Institution of Higher Education, other than universities, working at a very high standard in specific area of study, can be declared by the Central Government on the advice of the UGC as an Institution ‘Deemed-to-be-university’. Institutions that are ‘deemed-to-be-university’ enjoy academic status and privileges of a university.\""
   ]
  },
  {
   "cell_type": "code",
   "execution_count": 17,
   "id": "7bbaffda-9394-4cfc-bee2-19e2b5ff0562",
   "metadata": {},
   "outputs": [],
   "source": [
    "r_deemed = requests.get(\"https://www.thecivilindia.com/pages/education/deemed-universities.html\")\n",
    "if r_deemed.status_code == 200:\n",
    "    logger.info(\"Scraped Deemed Universities successfully.\")\n",
    "else:\n",
    "    logger.info(\"There was an error: \", r_deemed.status_code)"
   ]
  },
  {
   "cell_type": "code",
   "execution_count": 18,
   "id": "69f64d94-aff1-4425-bf9c-0b71834959dc",
   "metadata": {},
   "outputs": [],
   "source": [
    "d_soup = BeautifulSoup(r_deemed.text, 'html.parser')"
   ]
  },
  {
   "cell_type": "code",
   "execution_count": 19,
   "id": "b8c805f8-dd8c-4189-9ffd-b938fd8d40cf",
   "metadata": {},
   "outputs": [],
   "source": [
    "d_tq_div = d_soup.find(\"div\", class_=\"three_quarter first\")"
   ]
  },
  {
   "cell_type": "code",
   "execution_count": 20,
   "id": "a38a6e1b-d9c4-491a-9e9a-146f25ba490e",
   "metadata": {},
   "outputs": [],
   "source": [
    "deemed_universities_data  = d_tq_div.select(\"table tr\")"
   ]
  },
  {
   "cell_type": "code",
   "execution_count": 21,
   "id": "b81840eb-dd2c-40df-acfe-2c2650ea82aa",
   "metadata": {},
   "outputs": [],
   "source": [
    "del deemed_universities_data[0]"
   ]
  },
  {
   "cell_type": "code",
   "execution_count": 22,
   "id": "d3c1cd64-852e-40c1-a234-40ae8e44b7cb",
   "metadata": {},
   "outputs": [],
   "source": [
    "for uni in deemed_universities_data:\n",
    "    data = uni.find_all(\"td\")\n",
    "    uni_name: str = data[1].get_text().strip()\n",
    "    state_name: str = data[3].get_text().strip().lower()\n",
    "    state_names.add(state_name)\n",
    "    if state_name in university_state_mapping:\n",
    "        uni_list = university_state_mapping[state_name]\n",
    "        uni_list.append(uni_name)\n",
    "    else:\n",
    "        university_state_mapping[state_name] = [uni_name]\n",
    "    logger.info(f\"Added {uni_name} successfuly\")"
   ]
  },
  {
   "cell_type": "code",
   "execution_count": 23,
   "id": "7635b406-0573-4402-ad62-42d274adc930",
   "metadata": {},
   "outputs": [
    {
     "data": {
      "text/plain": [
       "{'andhra pradesh',\n",
       " 'andhra pradesh\\xa0&telangana',\n",
       " 'arunachal pradesh',\n",
       " 'assam',\n",
       " 'bihar',\n",
       " 'chandigarh',\n",
       " 'chhattisgarh',\n",
       " 'delhi',\n",
       " 'goa',\n",
       " 'gujarat',\n",
       " 'haryana',\n",
       " 'himachal pradesh',\n",
       " 'jammu and kashmir',\n",
       " 'jharkhand',\n",
       " 'karnataka',\n",
       " 'kerala',\n",
       " 'madhya pradesh',\n",
       " 'maharashtra',\n",
       " 'manipur',\n",
       " 'meghalaya',\n",
       " 'mizoram',\n",
       " 'nagaland',\n",
       " 'odisha',\n",
       " 'orissa',\n",
       " 'puducherry',\n",
       " 'punjab',\n",
       " 'rajasthan',\n",
       " 'sikkim',\n",
       " 'tamil nadu',\n",
       " 'telangana',\n",
       " 'tripura',\n",
       " 'uttar pradesh',\n",
       " 'uttarakhand',\n",
       " 'west bengal'}"
      ]
     },
     "execution_count": 23,
     "metadata": {},
     "output_type": "execute_result"
    }
   ],
   "source": [
    "state_names"
   ]
  },
  {
   "cell_type": "markdown",
   "id": "f05e6221-8491-40b1-9cb7-1002e9a5c59b",
   "metadata": {},
   "source": [
    "## Extracting Private Universities"
   ]
  },
  {
   "cell_type": "code",
   "execution_count": 24,
   "id": "1ccccb99-3db0-4005-82db-2ba6696eda50",
   "metadata": {},
   "outputs": [],
   "source": [
    "r_priv = requests.get(\"https://www.thecivilindia.com/pages/education/private-universities.html\")\n",
    "if r_priv.status_code == 200:\n",
    "    logger.info(\"Scraped private Universities successfully.\")\n",
    "else:\n",
    "    logger.info(\"There was an error: \", r_priv.status_code)"
   ]
  },
  {
   "cell_type": "code",
   "execution_count": 25,
   "id": "79bffa76-1dbb-45ae-91f0-07f23cb71966",
   "metadata": {},
   "outputs": [],
   "source": [
    "priv_soup = BeautifulSoup(r_priv.text, 'html.parser')"
   ]
  },
  {
   "cell_type": "code",
   "execution_count": 26,
   "id": "c20fba10-75d0-467c-a23f-3c43b8d7fd67",
   "metadata": {},
   "outputs": [],
   "source": [
    "priv_tq_div = priv_soup.find(\"div\", class_=\"three_quarter first\")"
   ]
  },
  {
   "cell_type": "code",
   "execution_count": 27,
   "id": "8e06c3a7-1eb5-415d-bb41-a48d8881d5f9",
   "metadata": {},
   "outputs": [],
   "source": [
    "private_universities_data  = priv_tq_div.select(\"table tr\")"
   ]
  },
  {
   "cell_type": "code",
   "execution_count": 28,
   "id": "b7a94201-ffcf-4607-a17c-98a82a2141ae",
   "metadata": {},
   "outputs": [],
   "source": [
    "del private_universities_data[0]"
   ]
  },
  {
   "cell_type": "code",
   "execution_count": 29,
   "id": "8b3054eb-909b-48dd-9db9-8ba5397492a2",
   "metadata": {},
   "outputs": [],
   "source": [
    "for uni in private_universities_data:\n",
    "    data = uni.find_all(\"td\")\n",
    "    uni_name: str = data[1].get_text().strip()\n",
    "    if data[2].get_text().strip().lower() != \"\":\n",
    "        state_name: str = data[2].get_text().strip().lower()\n",
    "    if state_name == \"alwar\" or state_name == \"jaipur\":\n",
    "        state_name = \"rajasthan\"\n",
    "    elif state_name == \"fatehgarh sahib\":\n",
    "        state_name = \"punjab\"\n",
    "    elif state_name == \"palampur\":\n",
    "        state_name = \"himachal pradesh\"\n",
    "    elif state_name == \"sonipat\":\n",
    "        state_name = \"haryana\"\n",
    "    state_names.add(state_name)\n",
    "    if state_name in university_state_mapping:\n",
    "        uni_list = university_state_mapping[state_name]\n",
    "        uni_list.append(uni_name)\n",
    "    else:\n",
    "        university_state_mapping[state_name] = [uni_name]\n",
    "    logger.info(f\"Added {uni_name} successfuly\")"
   ]
  },
  {
   "cell_type": "code",
   "execution_count": 30,
   "id": "7e7efb1d-b922-43e7-97a0-847f6ffcfef3",
   "metadata": {},
   "outputs": [],
   "source": [
    "logger.info(\"Successfully scraped all university data.\")"
   ]
  },
  {
   "cell_type": "code",
   "execution_count": 31,
   "id": "7a98ed89-b4fb-4adf-85ec-bb3006d146b3",
   "metadata": {},
   "outputs": [],
   "source": [
    "with open(\"stateWiseUnivsersies.json\", \"w\") as fp:\n",
    "    json.dump(university_state_mapping, fp)\n",
    "    logger.info(\"Data saved to json file succesfully!\")"
   ]
  },
  {
   "cell_type": "code",
   "execution_count": null,
   "id": "6fd06960-3730-4e3f-a058-f5cb33449b16",
   "metadata": {},
   "outputs": [],
   "source": []
  }
 ],
 "metadata": {
  "kernelspec": {
   "display_name": "Python 3 (ipykernel)",
   "language": "python",
   "name": "python3"
  },
  "language_info": {
   "codemirror_mode": {
    "name": "ipython",
    "version": 3
   },
   "file_extension": ".py",
   "mimetype": "text/x-python",
   "name": "python",
   "nbconvert_exporter": "python",
   "pygments_lexer": "ipython3",
   "version": "3.10.12"
  }
 },
 "nbformat": 4,
 "nbformat_minor": 5
}
